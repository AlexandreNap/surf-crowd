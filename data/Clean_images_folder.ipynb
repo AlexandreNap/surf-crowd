{
 "cells": [
  {
   "cell_type": "code",
   "execution_count": 1,
   "id": "9b9784ef",
   "metadata": {
    "pycharm": {
     "name": "#%%\n"
    }
   },
   "outputs": [],
   "source": [
    "import glob\n",
    "import os"
   ]
  },
  {
   "cell_type": "code",
   "execution_count": 2,
   "id": "6332b7a4",
   "metadata": {
    "pycharm": {
     "name": "#%%\n"
    }
   },
   "outputs": [],
   "source": [
    "files = [f for f in glob.glob(\"images\\\\spots\\\\*\\\\*.jpg\", recursive=True) if os.path.getsize(f) > 0]"
   ]
  },
  {
   "cell_type": "code",
   "execution_count": 3,
   "id": "6c2025c4",
   "metadata": {
    "pycharm": {
     "name": "#%%\n"
    }
   },
   "outputs": [
    {
     "name": "stdout",
     "output_type": "stream",
     "text": [
      "6842\n"
     ]
    }
   ],
   "source": [
    "null_files = [f for f in glob.glob(\"images\\\\spots\\\\*\\\\*.jpg\", recursive=True) if f not in files]\n",
    "print(len(null_files))\n",
    "for f in null_files:\n",
    "    os.remove(f)"
   ]
  },
  {
   "cell_type": "code",
   "execution_count": 4,
   "id": "abb3de16",
   "metadata": {
    "pycharm": {
     "name": "#%%\n"
    }
   },
   "outputs": [],
   "source": [
    "size_files = [os.path.getsize(f) for f in files]"
   ]
  },
  {
   "cell_type": "code",
   "execution_count": 5,
   "id": "e13e2cf5",
   "metadata": {
    "pycharm": {
     "name": "#%%\n"
    }
   },
   "outputs": [],
   "source": [
    "#get images having exactly the same size then previous image (high chance of being the same image) \n",
    "duplicated_idx = []\n",
    "previous_size = -1\n",
    "for i,size in enumerate(size_files):\n",
    "    if size == previous_size:\n",
    "        duplicated_idx.append(i)\n",
    "    previous_size = size"
   ]
  },
  {
   "cell_type": "code",
   "execution_count": 6,
   "id": "85128f83",
   "metadata": {
    "tags": [],
    "pycharm": {
     "name": "#%%\n"
    }
   },
   "outputs": [
    {
     "data": {
      "text/plain": "1947"
     },
     "execution_count": 6,
     "metadata": {},
     "output_type": "execute_result"
    }
   ],
   "source": [
    "len(duplicated_idx)"
   ]
  },
  {
   "cell_type": "code",
   "execution_count": 7,
   "id": "9a615182",
   "metadata": {
    "pycharm": {
     "name": "#%%\n"
    }
   },
   "outputs": [
    {
     "name": "stdout",
     "output_type": "stream",
     "text": [
      "23344\n",
      "21397\n"
     ]
    }
   ],
   "source": [
    "print(len(files))\n",
    "for idx in sorted(duplicated_idx, reverse=True):\n",
    "    os.remove(files[idx])\n",
    "    del files[idx]\n",
    "print(len(files))"
   ]
  },
  {
   "cell_type": "code",
   "execution_count": 7,
   "id": "b30e5437",
   "metadata": {
    "pycharm": {
     "name": "#%%\n"
    }
   },
   "outputs": [],
   "source": []
  },
  {
   "cell_type": "code",
   "execution_count": 8,
   "id": "5cf1635a",
   "metadata": {
    "pycharm": {
     "name": "#%%\n"
    }
   },
   "outputs": [
    {
     "name": "stdout",
     "output_type": "stream",
     "text": [
      "images\\spots\\Biarritz\\2022-05-19_17-30.jpg\n"
     ]
    }
   ],
   "source": [
    "from PIL import Image \n",
    "\n",
    "for filename in files:\n",
    "    if filename.endswith('.jpg'):\n",
    "        try:\n",
    "            img = Image.open(filename)  # open the image file\n",
    "            img.verify()  # verify that it is, in fact an image\n",
    "        except (IOError, SyntaxError) as e:\n",
    "            print(filename)\n",
    "            os.remove(filename)"
   ]
  },
  {
   "cell_type": "code",
   "execution_count": 9,
   "id": "1128b797",
   "metadata": {
    "pycharm": {
     "name": "#%%\n"
    }
   },
   "outputs": [
    {
     "data": {
      "text/plain": "'D:\\\\Users\\\\alexa\\\\Desktop\\\\projperso\\\\surf-crowd\\\\data\\\\images\\\\spots.zip.zip'"
     },
     "execution_count": 9,
     "metadata": {},
     "output_type": "execute_result"
    }
   ],
   "source": [
    "import shutil\n",
    "shutil.make_archive(\"images\\\\spots\", 'zip', \"images\\\\spots\\\\\")"
   ]
  },
  {
   "cell_type": "code",
   "execution_count": null,
   "outputs": [],
   "source": [],
   "metadata": {
    "collapsed": false,
    "pycharm": {
     "name": "#%%\n"
    }
   }
  },
  {
   "cell_type": "code",
   "execution_count": null,
   "id": "f6b68d16",
   "metadata": {
    "pycharm": {
     "name": "#%%\n"
    }
   },
   "outputs": [],
   "source": []
  }
 ],
 "metadata": {
  "kernelspec": {
   "display_name": "Python 3",
   "language": "python",
   "name": "python3"
  },
  "language_info": {
   "codemirror_mode": {
    "name": "ipython",
    "version": 3
   },
   "file_extension": ".py",
   "mimetype": "text/x-python",
   "name": "python",
   "nbconvert_exporter": "python",
   "pygments_lexer": "ipython3",
   "version": "3.7.10"
  }
 },
 "nbformat": 4,
 "nbformat_minor": 5
}