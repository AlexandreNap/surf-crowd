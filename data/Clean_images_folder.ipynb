{
 "cells": [
  {
   "cell_type": "code",
   "execution_count": 1,
   "id": "9b9784ef",
   "metadata": {},
   "outputs": [],
   "source": [
    "import glob\n",
    "import os"
   ]
  },
  {
   "cell_type": "code",
   "execution_count": 2,
   "id": "6332b7a4",
   "metadata": {},
   "outputs": [],
   "source": [
    "files = [f for f in glob.glob(\"images\\\\spots\\\\*\\\\*.jpg\", recursive=True) if os.path.getsize(f) > 0]"
   ]
  },
  {
   "cell_type": "code",
   "execution_count": 8,
   "id": "6c2025c4",
   "metadata": {},
   "outputs": [
    {
     "name": "stdout",
     "output_type": "stream",
     "text": [
      "2576\n"
     ]
    }
   ],
   "source": [
    "null_files = [f for f in glob.glob(\"images\\\\spots\\\\*\\\\*.jpg\", recursive=True) if f not in files]\n",
    "print(len(null_files))\n",
    "for f in null_files:\n",
    "    os.remove(f)"
   ]
  },
  {
   "cell_type": "code",
   "execution_count": 3,
   "id": "abb3de16",
   "metadata": {},
   "outputs": [],
   "source": [
    "size_files = [os.path.getsize(f) for f in files]"
   ]
  },
  {
   "cell_type": "code",
   "execution_count": 4,
   "id": "e13e2cf5",
   "metadata": {},
   "outputs": [],
   "source": [
    "#get images having exactly the same size then previous image (high chance of being the same image) \n",
    "duplicated_idx = []\n",
    "previous_size = -1\n",
    "for i,size in enumerate(size_files):\n",
    "    if size == previous_size:\n",
    "        duplicated_idx.append(i)\n",
    "    previous_size = size"
   ]
  },
  {
   "cell_type": "code",
   "execution_count": 5,
   "id": "85128f83",
   "metadata": {
    "tags": []
   },
   "outputs": [
    {
     "data": {
      "text/plain": [
       "0"
      ]
     },
     "execution_count": 5,
     "metadata": {},
     "output_type": "execute_result"
    }
   ],
   "source": [
    "len(duplicated_idx)"
   ]
  },
  {
   "cell_type": "code",
   "execution_count": 6,
   "id": "9a615182",
   "metadata": {},
   "outputs": [
    {
     "name": "stdout",
     "output_type": "stream",
     "text": [
      "9082\n",
      "9082\n"
     ]
    }
   ],
   "source": [
    "print(len(files))\n",
    "for idx in sorted(duplicated_idx, reverse=True):\n",
    "    os.remove(files[idx])\n",
    "    del files[idx]\n",
    "print(len(files))"
   ]
  },
  {
   "cell_type": "code",
   "execution_count": null,
   "id": "b30e5437",
   "metadata": {},
   "outputs": [],
   "source": []
  },
  {
   "cell_type": "code",
   "execution_count": 7,
   "id": "5cf1635a",
   "metadata": {},
   "outputs": [],
   "source": [
    "from PIL import Image \n",
    "\n",
    "for filename in files:\n",
    "    if filename.endswith('.jpg'):\n",
    "        try:\n",
    "            img = Image.open(filename)  # open the image file\n",
    "            img.verify()  # verify that it is, in fact an image\n",
    "        except (IOError, SyntaxError) as e:\n",
    "            print(filename)\n",
    "            os.remove(filename)"
   ]
  },
  {
   "cell_type": "code",
   "execution_count": null,
   "id": "1128b797",
   "metadata": {},
   "outputs": [],
   "source": []
  },
  {
   "cell_type": "code",
   "execution_count": null,
   "id": "f6b68d16",
   "metadata": {},
   "outputs": [],
   "source": []
  }
 ],
 "metadata": {
  "kernelspec": {
   "display_name": "Python 3",
   "language": "python",
   "name": "python3"
  },
  "language_info": {
   "codemirror_mode": {
    "name": "ipython",
    "version": 3
   },
   "file_extension": ".py",
   "mimetype": "text/x-python",
   "name": "python",
   "nbconvert_exporter": "python",
   "pygments_lexer": "ipython3",
   "version": "3.7.10"
  }
 },
 "nbformat": 4,
 "nbformat_minor": 5
}
