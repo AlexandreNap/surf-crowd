{
 "cells": [
  {
   "cell_type": "code",
   "execution_count": 1,
   "id": "8bee6d84",
   "metadata": {},
   "outputs": [],
   "source": [
    "import glob\n",
    "import os\n",
    "import random\n",
    "import pandas as pd\n",
    "import shutil\n",
    "import numpy as np"
   ]
  },
  {
   "cell_type": "code",
   "execution_count": 2,
   "id": "d6b9dc1d",
   "metadata": {},
   "outputs": [],
   "source": [
    "annotated_files = [f for f in glob.glob(\"not_totally_annotated\\\\labels\\\\*.txt\") if os.path.getsize(f) > 0]"
   ]
  },
  {
   "cell_type": "code",
   "execution_count": 3,
   "id": "c0f62ab1",
   "metadata": {},
   "outputs": [
    {
     "name": "stdout",
     "output_type": "stream",
     "text": [
      "93\n"
     ]
    },
    {
     "data": {
      "text/plain": [
       "'not_totally_annotated\\\\labels\\\\spots_Anglet_GrandePlage_2022-03-28_08-45.txt'"
      ]
     },
     "execution_count": 3,
     "metadata": {},
     "output_type": "execute_result"
    }
   ],
   "source": [
    "print(len(annotated_files))\n",
    "annotated_files[10]"
   ]
  },
  {
   "cell_type": "code",
   "execution_count": 4,
   "id": "99568a08",
   "metadata": {},
   "outputs": [],
   "source": [
    "import random\n",
    "random.shuffle(annotated_files)"
   ]
  },
  {
   "cell_type": "code",
   "execution_count": 5,
   "id": "31250f9d",
   "metadata": {
    "tags": []
   },
   "outputs": [],
   "source": [
    "import re\n",
    "\n",
    "def save_img_labels_to_annotated(files, folder):   \n",
    "    with open('annotated\\\\all.txt', 'w') as f:\n",
    "        for file in files:\n",
    "            new_path = file.replace('not_totally_annotated\\\\', 'annotated\\\\')\n",
    "            new_path = new_path.replace('labels', f'labels\\\\{folder}')\n",
    "            if not os.path.exists(new_path):\n",
    "                labels = open(file, \"r\").read()\n",
    "                labels = np.array([[float(x) for x in row.split(\" \")] for row in labels.split(\"\\n\")])\n",
    "                labels[:,2] = 1 - labels[:,2]\n",
    "                labels = labels.tolist()\n",
    "                with open(new_path, 'w') as corrected_labels:\n",
    "                    for i in range(len(labels)):\n",
    "                        for j in range(4):\n",
    "                            corrected_labels.write(\"%s \" % labels[i][j])\n",
    "                        corrected_labels.write(\"%s\" % labels[i][4])\n",
    "                        if i < len(labels) - 1:\n",
    "                            corrected_labels.write(\"\\n\")    \n",
    "\n",
    "                new_path_image = new_path.replace(\"labels\", \"images\").replace(\".txt\", \".jpg\")\n",
    "                image = re.sub(\".*?\\\\\\\\\", \"\", file.replace(\".txt\",\".jpg\"))\n",
    "                shutil.copy(\"..\\\\..\\\\..\\\\data\\\\surf_only_images\\\\\" + image, new_path_image)\n",
    "                f.write(\"%s\\n\" % image)      "
   ]
  },
  {
   "cell_type": "code",
   "execution_count": 6,
   "id": "51ce4021",
   "metadata": {},
   "outputs": [],
   "source": [
    "n = len(annotated_files)\n",
    "i_max_train = int(n*0.6)\n",
    "i_max_val = i_max_train + int(n*0.2)"
   ]
  },
  {
   "cell_type": "code",
   "execution_count": 7,
   "id": "27d8f719",
   "metadata": {},
   "outputs": [],
   "source": [
    "save_img_labels_to_annotated(annotated_files[:i_max_train], 'train')\n",
    "save_img_labels_to_annotated(annotated_files[i_max_train:i_max_val], 'val')\n",
    "save_img_labels_to_annotated(annotated_files[i_max_val:], 'test')"
   ]
  },
  {
   "cell_type": "code",
   "execution_count": null,
   "id": "3a076e13",
   "metadata": {},
   "outputs": [],
   "source": []
  },
  {
   "cell_type": "code",
   "execution_count": null,
   "id": "21e16769",
   "metadata": {},
   "outputs": [],
   "source": []
  },
  {
   "cell_type": "code",
   "execution_count": null,
   "id": "9fc4887a",
   "metadata": {},
   "outputs": [],
   "source": []
  }
 ],
 "metadata": {
  "kernelspec": {
   "display_name": "Python 3",
   "language": "python",
   "name": "python3"
  },
  "language_info": {
   "codemirror_mode": {
    "name": "ipython",
    "version": 3
   },
   "file_extension": ".py",
   "mimetype": "text/x-python",
   "name": "python",
   "nbconvert_exporter": "python",
   "pygments_lexer": "ipython3",
   "version": "3.7.10"
  }
 },
 "nbformat": 4,
 "nbformat_minor": 5
}
